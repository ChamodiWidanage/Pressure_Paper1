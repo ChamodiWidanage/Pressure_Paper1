{
 "cells": [
  {
   "cell_type": "markdown",
   "id": "cb3c9d88-fa91-47e4-be90-c8736176946c",
   "metadata": {},
   "source": [
    "## Alternative - Preprocessing"
   ]
  },
  {
   "cell_type": "code",
   "execution_count": 1,
   "id": "5c12eb2c-f2be-41f7-b84d-a3cd9ca119e7",
   "metadata": {
    "ExecuteTime": {
     "end_time": "2024-01-12T05:19:02.544689300Z",
     "start_time": "2024-01-12T05:18:59.432940300Z"
    }
   },
   "outputs": [
    {
     "name": "stdout",
     "output_type": "stream",
     "text": [
      "    Explosive type  Explosive mass  Standoff distance\n",
      "0              TNT             0.5                1.0\n",
      "1              TNT             0.5                1.5\n",
      "2              TNT             0.5                2.5\n",
      "3              TNT             0.5                3.5\n",
      "4              TNT             0.5                4.5\n",
      "..             ...             ...                ...\n",
      "583  Composition B            25.0               19.5\n",
      "584  Composition B            25.0               20.0\n",
      "585  Composition B            25.0                2.5\n",
      "586  Composition B            25.0                3.5\n",
      "587  Composition B            25.0                4.5\n",
      "\n",
      "[588 rows x 3 columns]\n",
      "['encoder__Explosive type_Composition B' 'encoder__Explosive type_TNT'\n",
      " 'remainder__Explosive mass' 'remainder__Standoff distance']\n",
      "[[ 0.   1.   0.5  1. ]\n",
      " [ 0.   1.   0.5  1.5]\n",
      " [ 0.   1.   0.5  2.5]\n",
      " ...\n",
      " [ 1.   0.  25.   2.5]\n",
      " [ 1.   0.  25.   3.5]\n",
      " [ 1.   0.  25.   4.5]]\n"
     ]
    }
   ],
   "source": [
    "# Importing the libraries\n",
    "import numpy as np\n",
    "import matplotlib.pyplot as plt\n",
    "import pandas as pd\n",
    "import pickle\n",
    "\n",
    "# Importing the dataset\n",
    "dataset = pd.read_excel('PDataset4.xlsx')\n",
    "X = dataset[['Explosive type', 'Explosive mass', 'Standoff distance']]\n",
    "y = dataset['Peak incident pressure']\n",
    "feature_names = X.columns\n",
    "print (X)\n",
    "\n",
    "# Encoding categorical data\n",
    "# Encoding the Independent Variable\n",
    "from sklearn.compose import ColumnTransformer\n",
    "from sklearn.preprocessing import OneHotEncoder\n",
    "ct = ColumnTransformer(transformers=[('encoder', OneHotEncoder(), ['Explosive type'])], remainder='passthrough')\n",
    "X = ct.fit_transform(X)\n",
    "\n",
    "#Getting the feature names\n",
    "new_feature_names = ct.get_feature_names_out(feature_names)\n",
    "print (new_feature_names)\n",
    "print (X)"
   ]
  },
  {
   "cell_type": "code",
   "execution_count": 2,
   "outputs": [
    {
     "name": "stdout",
     "output_type": "stream",
     "text": [
      "     Explosive type-CompB  Explosive type-TNT  Explosive mass  \\\n",
      "0                     0.0                 1.0             0.5   \n",
      "1                     0.0                 1.0             0.5   \n",
      "2                     0.0                 1.0             0.5   \n",
      "3                     0.0                 1.0             0.5   \n",
      "4                     0.0                 1.0             0.5   \n",
      "..                    ...                 ...             ...   \n",
      "583                   1.0                 0.0            25.0   \n",
      "584                   1.0                 0.0            25.0   \n",
      "585                   1.0                 0.0            25.0   \n",
      "586                   1.0                 0.0            25.0   \n",
      "587                   1.0                 0.0            25.0   \n",
      "\n",
      "     Standoff distance  \n",
      "0                  1.0  \n",
      "1                  1.5  \n",
      "2                  2.5  \n",
      "3                  3.5  \n",
      "4                  4.5  \n",
      "..                 ...  \n",
      "583               19.5  \n",
      "584               20.0  \n",
      "585                2.5  \n",
      "586                3.5  \n",
      "587                4.5  \n",
      "\n",
      "[588 rows x 4 columns]\n",
      "     Explosive type-CompB  Explosive type-TNT  Explosive mass  \\\n",
      "487                   1.0                 0.0            17.0   \n",
      "386                   1.0                 0.0             7.5   \n",
      "474                   1.0                 0.0            15.5   \n",
      "450                   1.0                 0.0            13.0   \n",
      "184                   0.0                 1.0            15.5   \n",
      "..                    ...                 ...             ...   \n",
      "296                   1.0                 0.0             0.5   \n",
      "552                   1.0                 0.0            23.0   \n",
      "55                    0.0                 1.0             3.5   \n",
      "11                    0.0                 1.0             0.5   \n",
      "107                   0.0                 1.0             9.5   \n",
      "\n",
      "     Standoff distance  \n",
      "487                9.5  \n",
      "386               12.5  \n",
      "474               15.5  \n",
      "450               13.5  \n",
      "184               16.5  \n",
      "..                 ...  \n",
      "296                7.5  \n",
      "552               10.5  \n",
      "55                13.5  \n",
      "11                11.5  \n",
      "107                2.5  \n",
      "\n",
      "[411 rows x 4 columns]\n"
     ]
    }
   ],
   "source": [
    "features = ['Explosive type-CompB', 'Explosive type-TNT', 'Explosive mass', 'Standoff distance']\n",
    "\n",
    "#Turning back into a dataframe\n",
    "X = pd.DataFrame(X, columns= features)\n",
    "print (X)\n",
    "\n",
    "\n",
    "# Splitting the dataset into the Training set and Test set\n",
    "from sklearn.model_selection import train_test_split\n",
    "X_train, X_test, y_train, y_test = train_test_split(X, y, test_size = 0.3, random_state = 71)\n",
    "print (X_train)"
   ],
   "metadata": {
    "collapsed": false,
    "ExecuteTime": {
     "end_time": "2024-01-12T05:20:10.527563400Z",
     "start_time": "2024-01-12T05:20:10.385262Z"
    }
   },
   "id": "7efe43fe2b0d363c"
  },
  {
   "cell_type": "markdown",
   "id": "7cf3e917-60a4-4c00-b140-70be58ca43a6",
   "metadata": {},
   "source": [
    "## Training the Decision Tree Regression model on the Training set"
   ]
  },
  {
   "cell_type": "code",
   "execution_count": 3,
   "id": "6633a572-3091-4fbe-8f5b-7c4d6db47a23",
   "metadata": {
    "ExecuteTime": {
     "end_time": "2024-01-12T05:22:03.297857100Z",
     "start_time": "2024-01-12T05:22:02.972857900Z"
    }
   },
   "outputs": [
    {
     "data": {
      "text/plain": "RandomForestRegressor(max_depth=7, n_estimators=50, random_state=71)",
      "text/html": "<style>#sk-container-id-1 {color: black;}#sk-container-id-1 pre{padding: 0;}#sk-container-id-1 div.sk-toggleable {background-color: white;}#sk-container-id-1 label.sk-toggleable__label {cursor: pointer;display: block;width: 100%;margin-bottom: 0;padding: 0.3em;box-sizing: border-box;text-align: center;}#sk-container-id-1 label.sk-toggleable__label-arrow:before {content: \"▸\";float: left;margin-right: 0.25em;color: #696969;}#sk-container-id-1 label.sk-toggleable__label-arrow:hover:before {color: black;}#sk-container-id-1 div.sk-estimator:hover label.sk-toggleable__label-arrow:before {color: black;}#sk-container-id-1 div.sk-toggleable__content {max-height: 0;max-width: 0;overflow: hidden;text-align: left;background-color: #f0f8ff;}#sk-container-id-1 div.sk-toggleable__content pre {margin: 0.2em;color: black;border-radius: 0.25em;background-color: #f0f8ff;}#sk-container-id-1 input.sk-toggleable__control:checked~div.sk-toggleable__content {max-height: 200px;max-width: 100%;overflow: auto;}#sk-container-id-1 input.sk-toggleable__control:checked~label.sk-toggleable__label-arrow:before {content: \"▾\";}#sk-container-id-1 div.sk-estimator input.sk-toggleable__control:checked~label.sk-toggleable__label {background-color: #d4ebff;}#sk-container-id-1 div.sk-label input.sk-toggleable__control:checked~label.sk-toggleable__label {background-color: #d4ebff;}#sk-container-id-1 input.sk-hidden--visually {border: 0;clip: rect(1px 1px 1px 1px);clip: rect(1px, 1px, 1px, 1px);height: 1px;margin: -1px;overflow: hidden;padding: 0;position: absolute;width: 1px;}#sk-container-id-1 div.sk-estimator {font-family: monospace;background-color: #f0f8ff;border: 1px dotted black;border-radius: 0.25em;box-sizing: border-box;margin-bottom: 0.5em;}#sk-container-id-1 div.sk-estimator:hover {background-color: #d4ebff;}#sk-container-id-1 div.sk-parallel-item::after {content: \"\";width: 100%;border-bottom: 1px solid gray;flex-grow: 1;}#sk-container-id-1 div.sk-label:hover label.sk-toggleable__label {background-color: #d4ebff;}#sk-container-id-1 div.sk-serial::before {content: \"\";position: absolute;border-left: 1px solid gray;box-sizing: border-box;top: 0;bottom: 0;left: 50%;z-index: 0;}#sk-container-id-1 div.sk-serial {display: flex;flex-direction: column;align-items: center;background-color: white;padding-right: 0.2em;padding-left: 0.2em;position: relative;}#sk-container-id-1 div.sk-item {position: relative;z-index: 1;}#sk-container-id-1 div.sk-parallel {display: flex;align-items: stretch;justify-content: center;background-color: white;position: relative;}#sk-container-id-1 div.sk-item::before, #sk-container-id-1 div.sk-parallel-item::before {content: \"\";position: absolute;border-left: 1px solid gray;box-sizing: border-box;top: 0;bottom: 0;left: 50%;z-index: -1;}#sk-container-id-1 div.sk-parallel-item {display: flex;flex-direction: column;z-index: 1;position: relative;background-color: white;}#sk-container-id-1 div.sk-parallel-item:first-child::after {align-self: flex-end;width: 50%;}#sk-container-id-1 div.sk-parallel-item:last-child::after {align-self: flex-start;width: 50%;}#sk-container-id-1 div.sk-parallel-item:only-child::after {width: 0;}#sk-container-id-1 div.sk-dashed-wrapped {border: 1px dashed gray;margin: 0 0.4em 0.5em 0.4em;box-sizing: border-box;padding-bottom: 0.4em;background-color: white;}#sk-container-id-1 div.sk-label label {font-family: monospace;font-weight: bold;display: inline-block;line-height: 1.2em;}#sk-container-id-1 div.sk-label-container {text-align: center;}#sk-container-id-1 div.sk-container {/* jupyter's `normalize.less` sets `[hidden] { display: none; }` but bootstrap.min.css set `[hidden] { display: none !important; }` so we also need the `!important` here to be able to override the default hidden behavior on the sphinx rendered scikit-learn.org. See: https://github.com/scikit-learn/scikit-learn/issues/21755 */display: inline-block !important;position: relative;}#sk-container-id-1 div.sk-text-repr-fallback {display: none;}</style><div id=\"sk-container-id-1\" class=\"sk-top-container\"><div class=\"sk-text-repr-fallback\"><pre>RandomForestRegressor(max_depth=7, n_estimators=50, random_state=71)</pre><b>In a Jupyter environment, please rerun this cell to show the HTML representation or trust the notebook. <br />On GitHub, the HTML representation is unable to render, please try loading this page with nbviewer.org.</b></div><div class=\"sk-container\" hidden><div class=\"sk-item\"><div class=\"sk-estimator sk-toggleable\"><input class=\"sk-toggleable__control sk-hidden--visually\" id=\"sk-estimator-id-1\" type=\"checkbox\" checked><label for=\"sk-estimator-id-1\" class=\"sk-toggleable__label sk-toggleable__label-arrow\">RandomForestRegressor</label><div class=\"sk-toggleable__content\"><pre>RandomForestRegressor(max_depth=7, n_estimators=50, random_state=71)</pre></div></div></div></div></div>"
     },
     "execution_count": 3,
     "metadata": {},
     "output_type": "execute_result"
    }
   ],
   "source": [
    "from sklearn.ensemble import RandomForestRegressor\n",
    "regressor = RandomForestRegressor(n_estimators = 50,\n",
    "                                  max_depth = 7,\n",
    "                                  min_samples_leaf = 1,\n",
    "                                  min_samples_split = 2,\n",
    "                                  random_state = 71)\n",
    "\n",
    "regressor.fit(X_train, y_train)"
   ]
  },
  {
   "cell_type": "markdown",
   "id": "1ccb7bf7-4b44-49fa-a751-b96796c1b690",
   "metadata": {},
   "source": [
    "## Load the model from disk"
   ]
  },
  {
   "cell_type": "code",
   "execution_count": null,
   "id": "bdb79f1a-e227-48d9-a622-8d3eb36c39ef",
   "metadata": {},
   "outputs": [],
   "source": [
    "import pickle\n",
    "filename = 'finalized_model_RF.sav'\n",
    "loaded_regressor = pickle.load(open(filename, 'rb'))"
   ]
  },
  {
   "cell_type": "markdown",
   "id": "a9116d44-d07f-4137-983d-7691b7ab91fb",
   "metadata": {},
   "source": [
    "## Predicting the Test set results"
   ]
  },
  {
   "cell_type": "code",
   "execution_count": 4,
   "id": "f64409c6-6401-4b63-8520-8d27bcbf638b",
   "metadata": {
    "ExecuteTime": {
     "end_time": "2024-01-12T05:22:22.323857800Z",
     "start_time": "2024-01-12T05:22:22.260003700Z"
    }
   },
   "outputs": [
    {
     "name": "stdout",
     "output_type": "stream",
     "text": [
      "[[ 119.43  117.57]\n",
      " [ 939.1   949.31]\n",
      " [ 191.84  200.22]\n",
      " [ 225.43  219.42]\n",
      " [ 113.29  112.12]\n",
      " [1632.24 1447.06]\n",
      " [ 145.49  150.68]\n",
      " [ 157.42  157.24]\n",
      " [ 111.06  109.06]\n",
      " [ 672.45  724.54]\n",
      " [ 404.01  417.99]\n",
      " [ 119.43  118.26]\n",
      " [ 188.29  195.43]\n",
      " [1374.22 1113.99]\n",
      " [ 114.01  114.48]\n",
      " [ 118.85  115.74]\n",
      " [ 116.51  115.79]\n",
      " [ 186.18  197.38]\n",
      " [ 118.85  117.61]\n",
      " [ 113.1   109.28]\n",
      " [ 563.01  626.02]\n",
      " [1292.42 1196.18]\n",
      " [ 107.86  110.56]\n",
      " [ 132.73  130.94]\n",
      " [ 112.65  112.99]\n",
      " [ 154.31  148.55]\n",
      " [ 118.94  119.54]\n",
      " [ 229.91  230.67]\n",
      " [ 117.11  116.75]\n",
      " [ 126.38  126.05]\n",
      " [ 106.15  104.27]\n",
      " [3491.92 3327.9 ]\n",
      " [ 125.46  124.15]\n",
      " [ 175.87  171.84]\n",
      " [2200.   2259.19]\n",
      " [ 125.46  123.17]\n",
      " [3816.56 4232.15]\n",
      " [ 184.23  167.83]\n",
      " [ 132.88  134.7 ]\n",
      " [ 117.49  114.12]\n",
      " [ 401.54  397.25]\n",
      " [ 317.54  324.37]\n",
      " [1411.33 1550.45]\n",
      " [ 401.17  403.13]\n",
      " [ 127.55  130.95]\n",
      " [ 120.16  120.33]\n",
      " [ 132.72  132.34]\n",
      " [ 115.1   113.93]\n",
      " [ 249.17  261.17]\n",
      " [ 188.92  193.11]\n",
      " [ 132.88  137.57]\n",
      " [ 188.97  203.69]\n",
      " [ 119.84  120.17]\n",
      " [ 116.96  116.22]\n",
      " [ 114.59  114.02]\n",
      " [ 126.96  128.43]\n",
      " [1383.78 1285.73]\n",
      " [ 118.85  115.39]\n",
      " [ 410.48  440.22]\n",
      " [ 140.89  136.37]\n",
      " [ 140.89  134.85]\n",
      " [ 155.    153.89]\n",
      " [ 117.92  118.  ]\n",
      " [ 127.38  127.73]\n",
      " [ 118.85  116.32]\n",
      " [ 119.84  119.91]\n",
      " [2675.1  2554.42]\n",
      " [7362.7  7053.01]\n",
      " [ 116.96  116.89]\n",
      " [ 114.41  110.35]\n",
      " [ 121.18  122.82]\n",
      " [ 168.63  173.5 ]\n",
      " [ 105.92  103.5 ]\n",
      " [6782.3  6379.69]\n",
      " [4719.04 5199.83]\n",
      " [ 118.52  115.07]\n",
      " [ 122.52  126.84]\n",
      " [ 106.29  108.76]\n",
      " [ 202.07  205.96]\n",
      " [ 113.1   109.61]\n",
      " [ 127.37  126.94]\n",
      " [ 122.27  122.24]\n",
      " [ 407.95  454.06]\n",
      " [ 106.29  107.25]\n",
      " [ 105.92  103.07]\n",
      " [ 122.52  125.77]\n",
      " [ 118.7   114.05]\n",
      " [ 122.46  125.47]\n",
      " [ 137.23  145.29]\n",
      " [ 127.91  128.26]\n",
      " [ 167.94  174.49]\n",
      " [3505.84 3652.34]\n",
      " [ 272.98  291.17]\n",
      " [ 161.84  165.97]\n",
      " [ 115.02  115.75]\n",
      " [ 118.92  114.54]\n",
      " [ 114.41  111.95]\n",
      " [ 201.31  207.89]\n",
      " [ 137.08  137.71]\n",
      " [ 166.21  164.22]\n",
      " [ 111.02  112.41]\n",
      " [ 118.94  118.09]\n",
      " [ 387.23  372.07]\n",
      " [ 106.15  104.66]\n",
      " [ 127.91  127.54]\n",
      " [ 105.92  103.39]\n",
      " [ 134.96  132.34]\n",
      " [ 106.82  105.86]\n",
      " [ 605.75  565.36]\n",
      " [ 114.41  111.11]\n",
      " [ 347.74  358.8 ]\n",
      " [ 213.77  201.67]\n",
      " [ 235.97  248.27]\n",
      " [ 219.46  218.53]\n",
      " [ 130.71  127.15]\n",
      " [ 132.73  132.92]\n",
      " [ 143.49  141.3 ]\n",
      " [ 112.89  108.27]\n",
      " [7222.95 6726.74]\n",
      " [ 546.79  591.28]\n",
      " [ 118.94  118.27]\n",
      " [ 183.14  189.59]\n",
      " [ 131.56  131.08]\n",
      " [ 126.96  129.58]\n",
      " [ 795.48  861.55]\n",
      " [ 106.96  109.74]\n",
      " [ 150.38  145.07]\n",
      " [ 384.97  354.25]\n",
      " [ 111.06  108.77]\n",
      " [ 105.92  103.17]\n",
      " [4454.82 5275.15]\n",
      " [ 668.43  647.73]\n",
      " [1180.64 1104.04]\n",
      " [ 134.53  129.88]\n",
      " [ 136.26  136.62]\n",
      " [ 128.93  124.59]\n",
      " [ 106.15  104.81]\n",
      " [ 131.62  131.18]\n",
      " [ 208.33  166.94]\n",
      " [1920.6  1939.25]\n",
      " [ 126.    124.65]\n",
      " [ 118.94  118.89]\n",
      " [ 118.94  118.59]\n",
      " [ 126.01  126.21]\n",
      " [ 200.84  212.03]\n",
      " [ 128.45  133.25]\n",
      " [ 106.29  107.67]\n",
      " [ 136.04  135.55]\n",
      " [3220.07 3402.07]\n",
      " [ 227.71  225.43]\n",
      " [ 133.66  134.2 ]\n",
      " [2477.33 2331.36]\n",
      " [ 252.12  241.93]\n",
      " [ 120.25  124.3 ]\n",
      " [ 155.48  135.68]\n",
      " [ 111.16  109.82]\n",
      " [ 115.69  115.35]\n",
      " [ 202.51  211.69]\n",
      " [ 136.04  136.51]\n",
      " [ 160.36  160.9 ]\n",
      " [ 145.49  153.07]\n",
      " [ 147.5   143.77]\n",
      " [ 255.87  254.6 ]\n",
      " [3642.46 4048.7 ]\n",
      " [ 121.54  123.63]\n",
      " [ 471.24  511.64]\n",
      " [ 115.71  113.81]\n",
      " [ 106.29  108.46]\n",
      " [4885.44 5684.27]\n",
      " [ 228.    226.66]\n",
      " [ 157.42  160.41]\n",
      " [ 149.03  145.23]\n",
      " [ 118.94  118.12]\n",
      " [ 828.65  553.89]\n",
      " [ 120.25  123.17]\n",
      " [ 112.89  108.55]\n",
      " [3931.93 4707.44]]\n"
     ]
    }
   ],
   "source": [
    "y_pred = regressor.predict(X_test)\n",
    "np.set_printoptions(precision=2)\n",
    "file = np.concatenate((y_pred.reshape(len(y_pred),1), y_test.values.reshape(len(y_test),1)),1)\n",
    "print(file)"
   ]
  },
  {
   "cell_type": "markdown",
   "id": "58f251db-3a7d-443c-8f57-a7265901f709",
   "metadata": {},
   "source": [
    "## SHAP"
   ]
  },
  {
   "cell_type": "code",
   "execution_count": 5,
   "id": "ecab57d9-e194-4341-8d40-93a6a6c0d15b",
   "metadata": {
    "ExecuteTime": {
     "end_time": "2024-01-12T05:22:55.941650900Z",
     "start_time": "2024-01-12T05:22:54.826693600Z"
    }
   },
   "outputs": [],
   "source": [
    "import shap\n",
    "#print (shap.__version__)"
   ]
  },
  {
   "cell_type": "code",
   "execution_count": null,
   "id": "5e1b9618-36c1-485a-a580-0180e3b99226",
   "metadata": {},
   "outputs": [],
   "source": [
    "# Create object that can calculate shap values for an ensemble tree model\n",
    "explainer = shap.TreeExplainer(regressor)"
   ]
  },
  {
   "cell_type": "code",
   "execution_count": null,
   "id": "981ab2f3-79b3-4409-94bc-1daefb074ac1",
   "metadata": {},
   "outputs": [],
   "source": [
    "# Calculate Shap values\n",
    "shap_values = explainer.shap_values(X_train)"
   ]
  },
  {
   "cell_type": "code",
   "execution_count": null,
   "id": "a5df87e5-67ac-499b-8e52-4821faab57d4",
   "metadata": {},
   "outputs": [],
   "source": [
    "#Summary plot type 1\n",
    "features = ['Charge type_CompB', 'Charge type_TNT', 'Charge mass', 'Standoff distance']\n",
    "shap.summary_plot(shap_values, X_train, feature_names = features, plot_type=\"bar\")\n",
    "print (plt.gcf().set_size_inches(20,5))"
   ]
  },
  {
   "cell_type": "code",
   "execution_count": null,
   "id": "0420c07a-b059-46be-ab0e-b008f6531256",
   "metadata": {},
   "outputs": [],
   "source": [
    "#Summary plot type 2\n",
    "features = ['Explosive type-CompB', 'Explosive type-TNT', 'Explosive mass', 'Standoff distance']\n",
    "plt.rcParams['font.family'] = 'serif'\n",
    "plt.rcParams['font.serif'] = ['Times New Roman'] + plt.rcParams['font.serif']\n",
    "shap.summary_plot(shap_values, X_train, feature_names=features, show=False,cmap = \"cool\")\n",
    "# Get the current figure and axes objects.\n",
    "fig = plt.gcf()\n",
    "print (plt.get_fignums())\n",
    "print (\"labels\",plt.get_figlabels())\n",
    "plt.gcf().set_size_inches(10,5)\n",
    "plt.xlabel(\"SHAP Value (Impact on the model)\", fontsize=20)\n",
    "plt.yticks(fontsize = 15,weight='bold')\n",
    "plt.xticks(fontsize = 15,weight='bold')\n",
    "#plt.xlim([-3000,7000])\n",
    "plt.xticks(rotation=45)\n",
    "#cb = plt.colorbar()\n",
    "#cb.set_ticks([2,19])\n",
    "\n",
    "# Get colorbar\n",
    "cb_ax = fig.axes[1] \n",
    "\n",
    "# Modifying color bar parameters\n",
    "cb_ax.tick_params(labelsize=15)\n",
    "cb_ax.set_ylabel(\"Feature value\", fontsize=20)\n",
    "#cb_ax.set_aspect(aspect = 1)\n",
    "#print (cb_ax.get_xlim())\n",
    "#print (cb_ax.get_ylim())\n",
    "#print (cb_ax.get_xbound())\n",
    "#print (cb_ax.get_ybound())\n",
    "#cb_ax.set_xlim(0,0.0001)\n",
    "\n",
    "#cb.set_xticklabels(['Low', 'High'])\n",
    "#ax.cb.set_label(\"Feature Values\",fontsize = 20)"
   ]
  },
  {
   "cell_type": "code",
   "execution_count": null,
   "id": "4a0123fb-8c1e-4097-81de-c88cd2113b44",
   "metadata": {},
   "outputs": [],
   "source": [
    "#features = ['Charge type_CompB', 'Charge type_TNT', 'Charge mass', 'Standoff distance']\n",
    "#Turning back into a dataframe\n",
    "X_train_df = pd.DataFrame(X_train, columns= features)\n",
    "X_train_df"
   ]
  },
  {
   "cell_type": "code",
   "execution_count": null,
   "id": "08b48677-b665-4935-9900-741edb6024cc",
   "metadata": {},
   "outputs": [],
   "source": [
    "#X_train\n",
    "X_train.columns=features\n",
    "print (X_train)"
   ]
  },
  {
   "cell_type": "code",
   "execution_count": null,
   "id": "2fb1fe3c-cac5-4e63-bbf7-95e2b015217a",
   "metadata": {},
   "outputs": [],
   "source": [
    "for i in features:\n",
    "        shap_v[i].dtype\n",
    "        print (i)\n",
    "        #print (shap_v[i])\n",
    "        #print (X_train_df[i].dtype)\n",
    "        print (shap_v[i],X_train[i])\n",
    "        #print (\"X_train_df\",i,X_train_df[i])"
   ]
  },
  {
   "cell_type": "code",
   "execution_count": null,
   "id": "411e2863-0ed8-44a6-adcb-716ded806c2c",
   "metadata": {},
   "outputs": [],
   "source": [
    "shap_v = pd.DataFrame(shap_values)\n",
    "#feature_list = df.columns\n",
    "shap_v.columns = features\n",
    "corr_list = list()\n",
    "for i in features:\n",
    "        b = np.corrcoef(shap_v[i],X_train[i].astype(float))[1][0]\n",
    "        corr_list.append(b)\n",
    "print (corr_list)"
   ]
  },
  {
   "cell_type": "code",
   "execution_count": null,
   "id": "09fad454-779f-4c2b-bf09-c74f786c3c0b",
   "metadata": {},
   "outputs": [],
   "source": [
    "shap_v = pd.DataFrame(shap_values)\n",
    "#feature_list = df.columns\n",
    "shap_v.columns = features\n",
    "corr_list = list()\n",
    "for i in features:\n",
    "        b = np.corrcoef(shap_v[i],X_train_df[i].astype(float))#[1][0]\n",
    "        corr_list.append(b)\n",
    "print (corr_list)"
   ]
  },
  {
   "cell_type": "code",
   "execution_count": null,
   "id": "13276509-82b8-4f81-9203-fd465debe4cd",
   "metadata": {},
   "outputs": [],
   "source": [
    "print (features)\n",
    "def ABS_SHAP(df_shap,df):\n",
    "    #import matplotlib as plt\n",
    "    # Make a copy of the input data\n",
    "    shap_v = pd.DataFrame(df_shap)\n",
    "    #feature_list = df.columns\n",
    "    shap_v.columns = features\n",
    "    df.columns = df_features\n",
    "    print (\"features\",features)\n",
    "    print (\"df_features\", df_features)\n",
    "    #df_v = df.copy().reset_index().drop('index',axis=1)\n",
    "    \n",
    "    # Determine the correlation in order to plot with different colors\n",
    "    corr_list = list()\n",
    "    for i,j in features, df_features:\n",
    "        print (i,j)\n",
    "        b = np.corrcoef(shap_v[i],df[j])[1][0]\n",
    "        corr_list.append(b)\n",
    "    corr_df = pd.concat([pd.Series(features),pd.Series(corr_list)],axis=1).fillna(0)\n",
    "    # Make a data frame. Column 1 is the feature, and Column 2 is the correlation coefficient\n",
    "    corr_df.columns  = ['Variable','Corr']\n",
    "    corr_df['Sign'] = np.where(corr_df['Corr']>0,'red','blue')\n",
    "    \n",
    "    # Plot it\n",
    "    shap_abs = np.abs(shap_v)\n",
    "    k=pd.DataFrame(shap_abs.mean()).reset_index()\n",
    "    k.columns = ['Variable','SHAP_abs']\n",
    "    k2 = k.merge(corr_df,left_on = 'Variable',right_on='Variable',how='inner')\n",
    "    k2 = k2.sort_values(by='SHAP_abs',ascending = True)\n",
    "    colorlist = k2['Sign']\n",
    "    ax = k2.plot.barh(x='Variable',y='SHAP_abs',color = colorlist, figsize=(8,5),legend=False)\n",
    "    ax.set_xlabel(\"SHAP Value (Red = Positive Impact)\", fontsize=20)\n",
    "    ax.set_ylabel(\"Features\", fontsize=20)\n",
    "    plt.yticks(fontsize = 15)\n",
    "    plt.xticks(fontsize = 15)\n",
    "ABS_SHAP(shap_values,X_train)"
   ]
  },
  {
   "cell_type": "code",
   "execution_count": 53,
   "id": "97f84515-a2f5-4305-97d0-f25bd4fd2cce",
   "metadata": {
    "ExecuteTime": {
     "end_time": "2024-01-13T08:21:59.734830600Z",
     "start_time": "2024-01-13T08:21:54.485359600Z"
    }
   },
   "outputs": [
    {
     "data": {
      "text/plain": "<Figure size 350x300 with 3 Axes>",
      "image/png": "[encoded data removed]"
     },
     "metadata": {},
     "output_type": "display_data"
    }
   ],
   "source": [
    "#Waterfall Plot (for an instance)\n",
    "explainer2 = shap.Explainer(regressor.predict, X_test)\n",
    "#X_test.columns=features\n",
    "shap_values2 = explainer2(X_test)\n",
    "shap.waterfall_plot(shap_values2[4], show=False)\n",
    "plt.gcf()\n",
    "plt.gcf().set_size_inches(3.5,3)\n",
    "plt.rcParams['font.weight'] = 'bold'\n",
    "\n",
    "plt.savefig('Images/SHAP2.png', dpi = 600, bbox_inches = 'tight')\n",
    "plt.show()"
   ]
  },
  {
   "cell_type": "code",
   "execution_count": null,
   "id": "bed56d86-6a5b-4636-84bb-ae2831070af0",
   "metadata": {},
   "outputs": [],
   "source": [
    "shap.waterfall_plot(shap_values2[25], show=False)\n",
    "plt.gcf().set_size_inches(10,5)\n",
    "plt.xticks(fontsize = 15,weight='bold')"
   ]
  },
  {
   "cell_type": "code",
   "execution_count": null,
   "id": "aa2d429e-984e-4576-832c-7a9c20dabd83",
   "metadata": {},
   "outputs": [],
   "source": [
    "#Partial Dependenace Plot\n",
    "shap.dependence_plot(3, shap_values, X_train, feature_names = features, show=False, cmap = \"rainbow\", dot_size = 30)\n",
    "plt.gcf().set_size_inches(10,8)\n",
    "plt.ylabel(\"SHAP value for Standoff distance\", fontsize = 20,weight='bold')\n",
    "plt.xlabel(\"Standoff_distance\",fontsize = 20,weight='bold')\n",
    "plt.yticks(fontsize = 15,weight='bold')\n",
    "plt.xticks(fontsize = 15,weight='bold')"
   ]
  },
  {
   "cell_type": "code",
   "execution_count": null,
   "id": "7491590e-72ba-4710-85f2-ca79ce5269b5",
   "metadata": {},
   "outputs": [],
   "source": [
    "#Partial Dependenace Plot\n",
    "shap.dependence_plot(2, shap_values, X_train, feature_names = features, show=False, cmap = \"rainbow\", dot_size = 30)\n",
    "plt.gcf().set_size_inches(10,8)\n",
    "plt.ylabel(\"SHAP value for Charge mass\", fontsize = 20,weight='bold')\n",
    "plt.xlabel(\"Charge mass\",fontsize = 20,weight='bold')\n",
    "plt.yticks(fontsize = 15,weight='bold')\n",
    "plt.xticks(fontsize = 15,weight='bold')\n",
    "plt.grid (visible = True, which = 'major', axis = 'y')"
   ]
  },
  {
   "cell_type": "code",
   "execution_count": null,
   "id": "81bc5285-086c-4534-ba02-a6b57c3d2ece",
   "metadata": {},
   "outputs": [],
   "source": [
    "#Partial Dependenace Plot\n",
    "shap.dependence_plot(2, shap_values, X_train, feature_names = features, show=False, cmap = \"rainbow\", dot_size = 30)\n",
    "plt.gcf().set_size_inches(10,8)\n",
    "plt.ylabel(\"SHAP value for Charge mass\", fontsize = 20,weight='bold')\n",
    "plt.xlabel(\"Charge mass\",fontsize = 20,weight='bold')\n",
    "plt.yticks(fontsize = 15,weight='bold')\n",
    "plt.xticks(fontsize = 15,weight='bold')\n",
    "plt.grid (visible = True, which = 'major', axis = 'y')\n",
    "plt.ylim([-200,200])"
   ]
  },
  {
   "cell_type": "code",
   "execution_count": null,
   "id": "fcb17094-3025-4ddb-83a6-f7f78cf05e66",
   "metadata": {},
   "outputs": [],
   "source": [
    "#Partial Dependenace Plot\n",
    "shap.dependence_plot(2, shap_values, X_train, feature_names = features, interaction_index = 1, show=False, dot_size = 30, cmap=plt.get_cmap(\"winter\"))\n",
    "plt.gcf().set_size_inches(10,8)\n",
    "plt.ylabel(\"SHAP value for Charge mass\", fontsize = 20,weight='bold')\n",
    "plt.xlabel(\"Charge mass\",fontsize = 20,weight='bold')\n",
    "plt.yticks(fontsize = 15,weight='bold')\n",
    "plt.xticks(fontsize = 15,weight='bold')\n",
    "plt.grid (visible = True, which = 'major', axis = 'y')"
   ]
  },
  {
   "cell_type": "code",
   "execution_count": null,
   "id": "66dd97f6-62df-4922-a20f-a1fae6aa213d",
   "metadata": {},
   "outputs": [],
   "source": [
    "#Partial Dependenace Plot\n",
    "shap.dependence_plot(3, shap_values, X_train, feature_names = features, interaction_index = 1, show=False, dot_size = 30, cmap=plt.get_cmap(\"winter\"))"
   ]
  },
  {
   "cell_type": "code",
   "execution_count": null,
   "id": "12b8dde7-3a69-49ce-9b2d-4224d0aea5c0",
   "metadata": {},
   "outputs": [],
   "source": [
    "#Force plot (Instance representation)\n",
    "row_to_show = 5\n",
    "shap_values3 = explainer.shap_values(X_test.iloc[row_to_show])\n",
    "shap.initjs()\n",
    "shap.force_plot(explainer.expected_value, shap_values3, X_test.iloc[row_to_show])"
   ]
  },
  {
   "cell_type": "code",
   "execution_count": null,
   "id": "e3c38f64-c8bd-4885-a6ca-9657d4c5fcf5",
   "metadata": {},
   "outputs": [],
   "source": [
    "shap.decision_plot(explainer.expected_value, shap_values3,  X_test.iloc[row_to_show])"
   ]
  }
 ],
 "metadata": {
  "kernelspec": {
   "display_name": "Python 3 (ipykernel)",
   "language": "python",
   "name": "python3"
  },
  "language_info": {
   "codemirror_mode": {
    "name": "ipython",
    "version": 3
   },
   "file_extension": ".py",
   "mimetype": "text/x-python",
   "name": "python",
   "nbconvert_exporter": "python",
   "pygments_lexer": "ipython3",
   "version": "3.9.7"
  }
 },
 "nbformat": 4,
 "nbformat_minor": 5
}
